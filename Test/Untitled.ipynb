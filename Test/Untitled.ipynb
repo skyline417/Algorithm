{
 "cells": [
  {
   "cell_type": "code",
   "execution_count": 1,
   "id": "95a54b5f",
   "metadata": {},
   "outputs": [],
   "source": [
    "import numpy as np\n",
    "D,N=8,7\n",
    "x=np.random.randn(N,D)\n",
    "y=np.sum(x,axis=0,keepdims=True)\n",
    "dy=np.random.randn(1,D)\n",
    "dx=np.repeat(dy,N,axis=0)"
   ]
  },
  {
   "cell_type": "code",
   "execution_count": null,
   "id": "c1fb22a1",
   "metadata": {},
   "outputs": [],
   "source": []
  }
 ],
 "metadata": {
  "kernelspec": {
   "display_name": "Python 3",
   "language": "python",
   "name": "python3"
  },
  "language_info": {
   "codemirror_mode": {
    "name": "ipython",
    "version": 3
   },
   "file_extension": ".py",
   "mimetype": "text/x-python",
   "name": "python",
   "nbconvert_exporter": "python",
   "pygments_lexer": "ipython3",
   "version": "3.8.8"
  }
 },
 "nbformat": 4,
 "nbformat_minor": 5
}
